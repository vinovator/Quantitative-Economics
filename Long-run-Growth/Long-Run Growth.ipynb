{
 "cells": [
  {
   "cell_type": "markdown",
   "id": "c4fa8fe9-82bd-401f-9b75-ebbf4e6e4231",
   "metadata": {},
   "source": [
    "# Long-Run Growth"
   ]
  },
  {
   "cell_type": "code",
   "execution_count": 9,
   "id": "59a921a5-a782-4868-bf69-f09b0276fdd5",
   "metadata": {},
   "outputs": [],
   "source": [
    "import pandas as pd\n",
    "import matplotlib.pyplot as plt"
   ]
  },
  {
   "cell_type": "code",
   "execution_count": null,
   "id": "a693d4af-260d-4d3b-9cde-d6c04d5815e0",
   "metadata": {},
   "outputs": [],
   "source": []
  }
 ],
 "metadata": {
  "kernelspec": {
   "display_name": "Python [conda env:base] *",
   "language": "python",
   "name": "conda-base-py"
  },
  "language_info": {
   "codemirror_mode": {
    "name": "ipython",
    "version": 3
   },
   "file_extension": ".py",
   "mimetype": "text/x-python",
   "name": "python",
   "nbconvert_exporter": "python",
   "pygments_lexer": "ipython3",
   "version": "3.9.18"
  }
 },
 "nbformat": 4,
 "nbformat_minor": 5
}
